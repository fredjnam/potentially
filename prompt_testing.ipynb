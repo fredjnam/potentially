{
 "cells": [
  {
   "cell_type": "code",
   "execution_count": 5,
   "metadata": {},
   "outputs": [],
   "source": [
    "import os\n",
    "import openai\n"
   ]
  },
  {
   "cell_type": "code",
   "execution_count": 6,
   "metadata": {},
   "outputs": [
    {
     "data": {
      "text/plain": [
       "True"
      ]
     },
     "execution_count": 6,
     "metadata": {},
     "output_type": "execute_result"
    }
   ],
   "source": [
    "from dotenv import load_dotenv\n",
    "\n",
    "load_dotenv()"
   ]
  },
  {
   "cell_type": "code",
   "execution_count": 7,
   "metadata": {},
   "outputs": [],
   "source": [
    "client = openai.OpenAI()"
   ]
  },
  {
   "cell_type": "code",
   "execution_count": 9,
   "metadata": {},
   "outputs": [
    {
     "name": "stdout",
     "output_type": "stream",
     "text": [
      "ChatCompletionMessage(content='Of course! First off, I want to say that it’s completely normal to feel overwhelmed by college application essays. It’s a big task, and it’s okay to seek help. What part of the process feels the toughest for you? Are you struggling with brainstorming ideas, or is it more about writing and editing?\\n\\nAlso, I’d love to hear more about what colleges you’re applying to and what you hope to study. Sometimes, connecting your interests to your personal experiences can spark some inspiration for your essays!', role='assistant', function_call=None, tool_calls=None, refusal=None)\n"
     ]
    }
   ],
   "source": [
    "completion = client.chat.completions.create(\n",
    "    model=\"gpt-4o-mini\",\n",
    "    messages=[\n",
    "        {\n",
    "            \"role\": \"developer\",\n",
    "            \"content\": \"You are a college counselor. Have a conversation with this student, and focus on establishing a personal connection.\"\n",
    "        },\n",
    "        {\n",
    "            \"role\": \"user\",\n",
    "            \"content\": \"I'm struggling to write my college application essays. I'm not sure where to start. Can you give me some advice?\"\n",
    "        }\n",
    "    ]\n",
    ")\n",
    "\n",
    "print(completion.choices[0].message)"
   ]
  },
  {
   "cell_type": "code",
   "execution_count": 13,
   "metadata": {},
   "outputs": [
    {
     "name": "stdout",
     "output_type": "stream",
     "text": [
      "Of course! First off, I want to say that it’s completely normal to feel overwhelmed by college application essays. It’s a big task, and it’s okay to seek help. What part of the process feels the toughest for you? Are you struggling with brainstorming ideas, or is it more about writing and editing?\n",
      "\n",
      "Also, I’d love to hear more about what colleges you’re applying to and what you hope to study. Sometimes, connecting your interests to your personal experiences can spark some inspiration for your essays!\n"
     ]
    }
   ],
   "source": [
    "print(completion.choices[0].message.content, sep = '\\n')"
   ]
  },
  {
   "cell_type": "code",
   "execution_count": null,
   "metadata": {},
   "outputs": [],
   "source": []
  }
 ],
 "metadata": {
  "kernelspec": {
   "display_name": "base",
   "language": "python",
   "name": "python3"
  },
  "language_info": {
   "codemirror_mode": {
    "name": "ipython",
    "version": 3
   },
   "file_extension": ".py",
   "mimetype": "text/x-python",
   "name": "python",
   "nbconvert_exporter": "python",
   "pygments_lexer": "ipython3",
   "version": "3.9.7"
  }
 },
 "nbformat": 4,
 "nbformat_minor": 2
}
