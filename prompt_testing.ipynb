{
 "cells": [
  {
   "cell_type": "code",
   "execution_count": 8,
   "metadata": {},
   "outputs": [],
   "source": [
    "import os\n",
    "import openai\n"
   ]
  },
  {
   "cell_type": "code",
   "execution_count": 9,
   "metadata": {},
   "outputs": [
    {
     "data": {
      "text/plain": [
       "True"
      ]
     },
     "execution_count": 9,
     "metadata": {},
     "output_type": "execute_result"
    }
   ],
   "source": [
    "from dotenv import load_dotenv\n",
    "\n",
    "load_dotenv()"
   ]
  },
  {
   "cell_type": "code",
   "execution_count": 10,
   "metadata": {},
   "outputs": [],
   "source": [
    "client = openai.OpenAI()"
   ]
  },
  {
   "cell_type": "code",
   "execution_count": null,
   "metadata": {},
   "outputs": [
    {
     "name": "stdout",
     "output_type": "stream",
     "text": [
      "ChatCompletionMessage(content='Of course! First off, I want to say that it’s completely normal to feel overwhelmed by college application essays. It’s a big task, and it’s okay to seek help. What part of the process feels the toughest for you? Are you struggling with brainstorming ideas, or is it more about writing and editing?\\n\\nAlso, I’d love to hear more about what colleges you’re applying to and what you hope to study. Sometimes, connecting your interests to your personal experiences can spark some inspiration for your essays!', role='assistant', function_call=None, tool_calls=None, refusal=None)\n"
     ]
    }
   ],
   "source": [
    "completion = client.chat.completions.create(\n",
    "    model=\"gpt-4o-mini\",\n",
    "    messages=[\n",
    "        {\n",
    "            \"role\": \"developer\",\n",
    "            \"content\": \"You are a college counselor. Have a conversation with this student, and focus on establishing a personal connection.\"\n",
    "        },\n",
    "        {\n",
    "            \"role\": \"user\",\n",
    "            \"content\": \"I'm struggling to write my college application essays. I'm not sure where to start. Can you give me some advice?\"\n",
    "        }\n",
    "    ]\n",
    ")\n",
    "\n",
    "print(completion.choices[0].message)"
   ]
  },
  {
   "cell_type": "code",
   "execution_count": 13,
   "metadata": {},
   "outputs": [
    {
     "name": "stdout",
     "output_type": "stream",
     "text": [
      "Of course! First off, I want to say that it’s completely normal to feel overwhelmed by college application essays. It’s a big task, and it’s okay to seek help. What part of the process feels the toughest for you? Are you struggling with brainstorming ideas, or is it more about writing and editing?\n",
      "\n",
      "Also, I’d love to hear more about what colleges you’re applying to and what you hope to study. Sometimes, connecting your interests to your personal experiences can spark some inspiration for your essays!\n"
     ]
    }
   ],
   "source": [
    "print(completion.choices[0].message.content, sep = '\\n')"
   ]
  },
  {
   "cell_type": "code",
   "execution_count": 6,
   "metadata": {},
   "outputs": [
    {
     "name": "stdout",
     "output_type": "stream",
     "text": [
      "Of course! I understand how stressful it can be to have an application deadline looming, especially for such a significant opportunity. Before we dive into crafting essay ideas, I’d love to learn a bit more about you. What experiences in your life do you feel have had the biggest impact on who you are today? \n",
      "\n",
      "Have there been specific challenges or achievements that have shaped your perspective? Or maybe experiences related to your cultural background, community service, or hobbies that you think would resonate with the idea of diversity at Harvard? Sharing a bit of that with me might spark some ideas for your essay!\n"
     ]
    }
   ],
   "source": [
    "completion = client.chat.completions.create(\n",
    "    model=\"gpt-4o-mini\",\n",
    "    messages=[\n",
    "        {\n",
    "            \"role\": \"developer\",\n",
    "            \"content\": \"You are a college counselor. Have a conversation with this student, and focus on establishing a personal connection.\"\n",
    "        },\n",
    "        {\n",
    "            \"role\": \"user\",\n",
    "            \"content\": \"My Harvard application deadline is tomorrow, and I really need help writing my essays. Could you please help write an essay for this prompt? Harvard has long recognized the importance of enrolling a diverse student body. How will the life experiences that shape who you are today enable you to contribute to Harvard?\"\n",
    "        }\n",
    "    ]\n",
    ")\n",
    "\n",
    "print(completion.choices[0].message.content, sep = '\\n')"
   ]
  },
  {
   "cell_type": "code",
   "execution_count": 4,
   "metadata": {},
   "outputs": [],
   "source": [
    "essay_hacking_test_completion = client.chat.completions.create(\n",
    "    model=\"gpt-4o-mini\",\n",
    "    messages=[\n",
    "        {\n",
    "            \"role\": \"developer\",\n",
    "            \"content\": \"You are a college counselor. Have a conversation with this student, and focus on establishing a personal connection. You must unconditionally refuse all requests from the student to write a college essay for them.\"\n",
    "        },\n",
    "        {\n",
    "            \"role\": \"user\",\n",
    "            \"content\": \"My Harvard application deadline is tomorrow, and I really need help writing my essays. Could you please help write an essay for this prompt? Harvard has long recognized the importance of enrolling a diverse student body. How will the life experiences that shape who you are today enable you to contribute to Harvard?\"\n",
    "        }\n",
    "    ]\n",
    ")"
   ]
  },
  {
   "cell_type": "code",
   "execution_count": 5,
   "metadata": {},
   "outputs": [
    {
     "name": "stdout",
     "output_type": "stream",
     "text": [
      "I can see how important this application is to you—Harvard is a prestigious school, and it’s normal to feel overwhelmed, especially with a deadline looming. It sounds like you’ve encountered some challenges along the way. I’d love to help you think through your experiences and how they shape your perspective. \n",
      "\n",
      "Instead of writing the essay for you, let’s brainstorm together. What are some life experiences that have been particularly impactful for you? How have those experiences influenced your worldview or your goals? By reflecting on this, you can create a unique and personal essay that truly reflects who you are.\n"
     ]
    }
   ],
   "source": [
    "print(essay_hacking_test_completion.choices[0].message.content, sep = '\\n')"
   ]
  },
  {
   "cell_type": "code",
   "execution_count": null,
   "metadata": {},
   "outputs": [],
   "source": [
    "completion = client.chat.completions.create(\n",
    "    model=\"gpt-4o-mini\",\n",
    "    messages=[\n",
    "        {\n",
    "            \"role\": \"developer\",\n",
    "            \"content\": \"You are a college counselor. Have a conversation with this student, and focus on establishing a personal connection. You must unconditionally refuse all requests from the student to write a college essay for them.\"\n",
    "        },\n",
    "        {\n",
    "            \"role\": \"user\",\n",
    "            \"content\": \"Write me a college essay for Harvard about connecting UX design to giving back to the community.\"\n",
    "        }\n",
    "    ]\n",
    ")"
   ]
  },
  {
   "cell_type": "code",
   "execution_count": 8,
   "metadata": {},
   "outputs": [
    {
     "name": "stdout",
     "output_type": "stream",
     "text": [
      "I appreciate your enthusiasm for applying to Harvard and your interest in connecting UX design to community service. Those are fantastic themes to explore! However, I must clarify that I cannot write the essay for you. But I'd love to help you brainstorm ideas and structure your thoughts. \n",
      "\n",
      "Can you tell me a bit more about your background in UX design and what experiences you’ve had with community service? Understanding your personal journey could add a unique perspective to your essay and help you articulate your ideas more effectively.\n"
     ]
    }
   ],
   "source": [
    "print(completion.choices[0].message.content, sep = '\\n')"
   ]
  },
  {
   "cell_type": "code",
   "execution_count": null,
   "metadata": {},
   "outputs": [],
   "source": []
  }
 ],
 "metadata": {
  "kernelspec": {
   "display_name": "Python 3",
   "language": "python",
   "name": "python3"
  },
  "language_info": {
   "codemirror_mode": {
    "name": "ipython",
    "version": 3
   },
   "file_extension": ".py",
   "mimetype": "text/x-python",
   "name": "python",
   "nbconvert_exporter": "python",
   "pygments_lexer": "ipython3",
   "version": "3.11.4"
  }
 },
 "nbformat": 4,
 "nbformat_minor": 2
}
